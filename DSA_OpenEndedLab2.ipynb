{
  "nbformat": 4,
  "nbformat_minor": 0,
  "metadata": {
    "colab": {
      "provenance": []
    },
    "kernelspec": {
      "name": "python3",
      "display_name": "Python 3"
    },
    "language_info": {
      "name": "python"
    }
  },
  "cells": [
    {
      "cell_type": "code",
      "execution_count": 2,
      "metadata": {
        "colab": {
          "base_uri": "https://localhost:8080/"
        },
        "id": "u-MGR5C1aCiX",
        "outputId": "6bcb4e52-6bd7-4f77-deed-a58a6a1c56d0"
      },
      "outputs": [
        {
          "output_type": "stream",
          "name": "stdout",
          "text": [
            "Enter the pattern (e.g., 'abba'): xxyy\n",
            "Enter the string (e.g., 'lion tiger tiger lion'): apple apple banana banana\n",
            "Output: true\n"
          ]
        }
      ],
      "source": [
        "def matches_pattern(pattern, s):\n",
        "    \"\"\"\n",
        "    Function to check if a string follows a given pattern.\n",
        "    Manually splits the input string and uses hashmaps to check for bijection.\n",
        "    \"\"\"\n",
        "    # Manually split the string `s` into a list of words\n",
        "    words = []\n",
        "    word = \"\"\n",
        "    for char in s:\n",
        "        if char == \" \":  # If we encounter a space, we complete the current word\n",
        "            if word:\n",
        "                words.append(word)\n",
        "                word = \"\"\n",
        "        else:\n",
        "            word += char  # Add characters to the current word\n",
        "    if word:  # Append the last word (if any)\n",
        "        words.append(word)\n",
        "\n",
        "    # If the number of words and the length of the pattern are not equal, return False\n",
        "    if len(words) != len(pattern):\n",
        "        return False\n",
        "\n",
        "    # Create two hashmaps to track mappings\n",
        "    char_to_word = {}  # Maps each pattern character to a word\n",
        "    word_to_char = {}  # Maps each word to a pattern character\n",
        "\n",
        "    # Iterate through the pattern and words together\n",
        "    for char, word in zip(pattern, words):\n",
        "        # Check if the character already maps to a word\n",
        "        if char in char_to_word:\n",
        "            # If it does, ensure it maps to the same word\n",
        "            if char_to_word[char] != word:\n",
        "                return False\n",
        "        else:\n",
        "            # If the character is not yet mapped, map it to the word\n",
        "            char_to_word[char] = word\n",
        "\n",
        "        # Check if the word already maps to a character\n",
        "        if word in word_to_char:\n",
        "            # If it does, ensure it maps to the same character\n",
        "            if word_to_char[word] != char:\n",
        "                return False\n",
        "        else:\n",
        "            # If the word is not yet mapped, map it to the character\n",
        "            word_to_char[word] = char\n",
        "\n",
        "    # If all mappings are consistent, return True\n",
        "    return True\n",
        "\n",
        "\n",
        "# Execution starts here\n",
        "# Take user input for the pattern\n",
        "pattern = input(\"Enter the pattern (e.g., 'abba'): \").strip()\n",
        "\n",
        "# Take user input for the string\n",
        "s = input(\"Enter the string (e.g., 'lion tiger tiger lion'): \").strip()\n",
        "\n",
        "# Call the function and display the result\n",
        "if matches_pattern(pattern, s):\n",
        "    print(\"Output: true\")\n",
        "else:\n",
        "    print(\"Output: false\")\n"
      ]
    },
    {
      "cell_type": "code",
      "source": [
        "def matches_pattern(pattern, s):\n",
        "    \"\"\"\n",
        "    Function to check if a string follows a given pattern.\n",
        "    Manually splits the input string and uses hashmaps to check for bijection.\n",
        "    \"\"\"\n",
        "    # Manually split the string `s` into a list of words\n",
        "    words = []\n",
        "    word = \"\"\n",
        "    for char in s:\n",
        "        if char == \" \":  # If we encounter a space, we complete the current word\n",
        "            if word:\n",
        "                words.append(word)\n",
        "                word = \"\"\n",
        "        else:\n",
        "            word += char  # Add characters to the current word\n",
        "    if word:  # Append the last word (if any)\n",
        "        words.append(word)\n",
        "\n",
        "    # If the number of words and the length of the pattern are not equal, return False\n",
        "    if len(words) != len(pattern):\n",
        "        return False\n",
        "\n",
        "    # Create two hashmaps to track mappings\n",
        "    char_to_word = {}  # Maps each pattern character to a word\n",
        "    word_to_char = {}  # Maps each word to a pattern character\n",
        "\n",
        "    # Iterate through the pattern and words together\n",
        "    for char, word in zip(pattern, words):\n",
        "        # Check if the character already maps to a word\n",
        "        if char in char_to_word:\n",
        "            # If it does, ensure it maps to the same word\n",
        "            if char_to_word[char] != word:\n",
        "                return False\n",
        "        else:\n",
        "            # If the character is not yet mapped, map it to the word\n",
        "            char_to_word[char] = word\n",
        "\n",
        "        # Check if the word already maps to a character\n",
        "        if word in word_to_char:\n",
        "            # If it does, ensure it maps to the same character\n",
        "            if word_to_char[word] != char:\n",
        "                return False\n",
        "        else:\n",
        "            # If the word is not yet mapped, map it to the character\n",
        "            word_to_char[word] = char\n",
        "\n",
        "    # If all mappings are consistent, return True\n",
        "    return True\n",
        "\n",
        "\n",
        "# Execution starts here\n",
        "# Take user input for the pattern\n",
        "pattern = input(\"Enter the pattern (e.g., 'zyyz'): \").strip()\n",
        "\n",
        "# Take user input for the string\n",
        "s = input(\"Enter the string (e.g., 'lion tiger tiger lion'): \").strip()\n",
        "\n",
        "# Call the function and display the result\n",
        "if matches_pattern(pattern, s):\n",
        "    print(\"Output: true\")\n",
        "else:\n",
        "    print(\"Output: false\")\n"
      ],
      "metadata": {
        "colab": {
          "base_uri": "https://localhost:8080/"
        },
        "id": "fO9ECKfsbf7k",
        "outputId": "07e802a1-2256-4cbd-82e6-7c04188789b3"
      },
      "execution_count": 5,
      "outputs": [
        {
          "output_type": "stream",
          "name": "stdout",
          "text": [
            "Enter the pattern (e.g., 'zyyz'): acxy\n",
            "Enter the string (e.g., 'lion tiger tiger lion'): potato bike bike orange\n",
            "Output: false\n"
          ]
        }
      ]
    }
  ]
}